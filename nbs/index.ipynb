{
 "cells": [
  {
   "cell_type": "code",
   "execution_count": null,
   "metadata": {},
   "outputs": [],
   "source": [
    "#| hide\n",
    "from sme_agent.core import *"
   ]
  },
  {
   "cell_type": "markdown",
   "metadata": {},
   "source": [
    "# sme-agent\n",
    "\n",
    "> Prototype for a subject matter surrogate agent based on Large Language Models (LLMs)\n",
    "\n",
    "![](./images/ssquirr.png)"
   ]
  },
  {
   "cell_type": "markdown",
   "metadata": {},
   "source": [
    "## Prototyping Subject Matter Surrogate Agent for Maintenance\n",
    "\n",
    "This is a prototype for a subject matter surrogate agent for maintenance operations. The agent designed to assist maintenance personnel in answering questions and providing guidance on maintenance tasks as well as be a surrogate agent in a multi-agent system. "
   ]
  }
 ],
 "metadata": {
  "kernelspec": {
   "display_name": "python3",
   "language": "python",
   "name": "python3"
  }
 },
 "nbformat": 4,
 "nbformat_minor": 4
}
