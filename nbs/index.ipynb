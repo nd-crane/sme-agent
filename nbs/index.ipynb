{
 "cells": [
  {
   "cell_type": "code",
   "execution_count": null,
   "metadata": {},
   "outputs": [],
   "source": [
    "#| hide\n",
    "from sme_agent.core import *"
   ]
  },
  {
   "cell_type": "markdown",
   "metadata": {},
   "source": [
    "# sme-agent\n",
    "\n",
    "> Prototype for a subject matter surrogate agent"
   ]
  },
  {
   "cell_type": "markdown",
   "metadata": {},
   "source": [
    "## Prototyping Subject Matter Surrogate Agent for Maintenance\n",
    "\n",
    "This is a prototype for a subject matter surrogate agent for maintenance. The agent is designed to be a digital twin of a physical asset, and is capable of providing information about the asset, including its current state, and the actions that can be performed on it. The agent is designed to be used in a maintenance context, and is capable of providing information about the maintenance history of the asset, and the maintenance actions that can be performed on it."
   ]
  }
 ],
 "metadata": {
  "kernelspec": {
   "display_name": "python3",
   "language": "python",
   "name": "python3"
  }
 },
 "nbformat": 4,
 "nbformat_minor": 4
}
